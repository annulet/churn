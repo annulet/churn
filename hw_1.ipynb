{
 "cells": [
  {
   "cell_type": "markdown",
   "metadata": {},
   "source": [
    "### 1. Согласно принципу SMART, попробуйте расписать кейс кредитного скоринга, разбиравшийся на одном из предыдущих курсов."
   ]
  },
  {
   "cell_type": "markdown",
   "metadata": {},
   "source": [
    "Согласно принципу SMART цели должны быть:\n",
    "\n",
    "Specific - конкрентными;\n",
    "Мeasurable - измеримыми;\n",
    "Ambitious, Achievable - амбициозными и достижимыми;\n",
    "Relevant - релевантными, т.е. согласовываться с другими целями и задачами;\n",
    "Time bound - определенными во времени."
   ]
  },
  {
   "cell_type": "markdown",
   "metadata": {},
   "source": [
    "Задачу определения кредитного скоринга можно формализовать следующим образом:"
   ]
  },
  {
   "cell_type": "markdown",
   "metadata": {},
   "source": [
    "1. Решаем задачу регрессии, разрабатываем модель случайного леса для предсказания скоринга."
   ]
  },
  {
   "cell_type": "markdown",
   "metadata": {},
   "source": [
    "2. Целевая переменная - скоринговый балл, вещественное число."
   ]
  },
  {
   "cell_type": "markdown",
   "metadata": {},
   "source": [
    "3. Метрика для оценки качества - $R^2$."
   ]
  },
  {
   "cell_type": "markdown",
   "metadata": {},
   "source": [
    "4. Сбор исторических данных о клиентах банка вернувших и не вернувших кредит. Их подготовка. Построение и настройка модели. Оценка качества."
   ]
  },
  {
   "cell_type": "markdown",
   "metadata": {},
   "source": [
    "5. Срок - 1 месяц."
   ]
  },
  {
   "cell_type": "markdown",
   "metadata": {},
   "source": [
    "### 2. Предложить перечень индикаторов оттока для клиента каршеринга. Какие данные мы бы взяли в датасет, предполагая, что в нашем распоряжении есть какие угодно сведения?"
   ]
  },
  {
   "cell_type": "markdown",
   "metadata": {},
   "source": [
    "Демографические и социально-экономические характеристики."
   ]
  },
  {
   "cell_type": "markdown",
   "metadata": {},
   "source": [
    "Как давно клиент пользуется каршерингом?"
   ]
  },
  {
   "cell_type": "markdown",
   "metadata": {},
   "source": [
    "Дата последней поездки."
   ]
  },
  {
   "cell_type": "markdown",
   "metadata": {},
   "source": [
    "Частота пользования услугой. В динамике."
   ]
  },
  {
   "cell_type": "markdown",
   "metadata": {},
   "source": [
    "Средний чек."
   ]
  },
  {
   "cell_type": "markdown",
   "metadata": {},
   "source": [
    "Адрес проживания. Основные маршруты."
   ]
  },
  {
   "cell_type": "markdown",
   "metadata": {},
   "source": [
    "Среднее количество доступных машин в районе проживания, работы, основных пунктов назначения."
   ]
  },
  {
   "cell_type": "markdown",
   "metadata": {},
   "source": [
    "Марки предпочитаемых машин. Наличие таких машин по адресу проживания и основных маршрутов."
   ]
  },
  {
   "cell_type": "markdown",
   "metadata": {},
   "source": [
    "Если сведения какие угодно, то очень важно иметь данные о конкурентах. Услугами каких еще каршерингов пользуется клиент? Как часто?"
   ]
  },
  {
   "cell_type": "markdown",
   "metadata": {},
   "source": [
    "Машин какого каршеринга больше по адресу проживания и основных маршрутов?"
   ]
  },
  {
   "cell_type": "markdown",
   "metadata": {},
   "source": [
    "Были ли проблемы? Жалобы?"
   ]
  },
  {
   "cell_type": "markdown",
   "metadata": {},
   "source": [
    "Клиенты могут уходить, чтобы не платить штрафы каршерингу за какие-то нарушения. Соответственно, информация о штрафах, эвакуациях и т.д."
   ]
  },
  {
   "cell_type": "code",
   "execution_count": null,
   "metadata": {},
   "outputs": [],
   "source": []
  }
 ],
 "metadata": {
  "kernelspec": {
   "display_name": "Python 3",
   "language": "python",
   "name": "python3"
  },
  "language_info": {
   "codemirror_mode": {
    "name": "ipython",
    "version": 3
   },
   "file_extension": ".py",
   "mimetype": "text/x-python",
   "name": "python",
   "nbconvert_exporter": "python",
   "pygments_lexer": "ipython3",
   "version": "3.7.6"
  }
 },
 "nbformat": 4,
 "nbformat_minor": 4
}
